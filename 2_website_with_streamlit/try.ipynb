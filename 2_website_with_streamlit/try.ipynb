{
 "cells": [
  {
   "cell_type": "code",
   "execution_count": null,
   "metadata": {},
   "outputs": [],
   "source": [
    "\n",
    "import streamlit as st\n",
    "import requests\n",
    "from streamlit_lottie import st_lottie\n",
    "\n",
    "# Set page configuration\n",
    "st.set_page_config(page_title=\"Welcome to Camaco Learning Lab\")\n",
    "\n",
    "# Function to load Lottie animations from URL\n",
    "def load_lottieurl(url):\n",
    "    r = requests.get(url)\n",
    "    if r.status_code != 200:\n",
    "        return None\n",
    "    return r.json()\n",
    "\n",
    "lottie_coding3 = load_lottieurl(\"https://lottie.host/6008acfd-aacc-422e-95da-8526dd9fdd19/4TWvQSUWkO.json\")\n",
    "\n",
    "# Function to check login credentials\n",
    "def check_login(username, password):\n",
    "    # Dictionary storing username: password pairs\n",
    "    user_database = {\n",
    "        \"Jparent\": \"a1234\",\n",
    "        \"Mkalas\": \"1234\",\n",
    "        \"Gopal\": \"Password1\",\n",
    "        \"Jpais\": \"Pass@123\",\n",
    "        \"asdf\": \"1234\"\n",
    "    }\n",
    "    # Check if the username exists in the dictionary and if the password matches\n",
    "    return user_database.get(username) == password\n",
    "\n",
    "# Function to show the login page\n",
    "def show_login_page():\n",
    "    st.title(\"Login\")\n",
    "    # Create a two-column layout\n",
    "    col1, col2 = st.columns([2, 3])\n",
    "\n",
    "    with col1:\n",
    "        st_lottie(lottie_coding3, height=250, width=200, key=\"intern\")\n",
    "\n",
    "    with col2:\n",
    "        username = st.text_input(\"Username\")\n",
    "        password = st.text_input(\"Password\", type=\"password\")\n",
    "        \n",
    "        if st.button(\"Login\"):\n",
    "            if check_login(username, password):\n",
    "                st.session_state['logged_in'] = True\n",
    "            else:\n",
    "                st.error(\"Invalid username or password\")\n",
    "\n",
    "# Check if the user is logged in; if not, show the login page\n",
    "if 'logged_in' not in st.session_state:\n",
    "    st.session_state['logged_in'] = False\n",
    "\n",
    "if not st.session_state['logged_in']:\n",
    "    show_login_page()\n",
    "else:\n",
    "    st.write(\"Welcome to Camaco Learning Lab\")"
   ]
  },
  {
   "cell_type": "code",
   "execution_count": 2,
   "metadata": {},
   "outputs": [],
   "source": [
    "l=[1,2,3,4]\n",
    "\n",
    "if 9 in l:\n",
    "    print(True)"
   ]
  },
  {
   "cell_type": "code",
   "execution_count": null,
   "metadata": {},
   "outputs": [],
   "source": []
  }
 ],
 "metadata": {
  "kernelspec": {
   "display_name": "Python 3",
   "language": "python",
   "name": "python3"
  },
  "language_info": {
   "codemirror_mode": {
    "name": "ipython",
    "version": 3
   },
   "file_extension": ".py",
   "mimetype": "text/x-python",
   "name": "python",
   "nbconvert_exporter": "python",
   "pygments_lexer": "ipython3",
   "version": "3.11.9"
  }
 },
 "nbformat": 4,
 "nbformat_minor": 2
}
